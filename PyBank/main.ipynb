{
 "cells": [
  {
   "cell_type": "code",
   "execution_count": 2,
   "id": "68f6b9a5-7360-4286-afd8-2fed6f5c1977",
   "metadata": {},
   "outputs": [],
   "source": [
    "#***Homework Assignment: Automate Your Day Job with Python - PyBank***"
   ]
  },
  {
   "cell_type": "code",
   "execution_count": 3,
   "id": "256a250e-5a52-4c55-ab40-1467db77fa04",
   "metadata": {},
   "outputs": [],
   "source": [
    "#Import libraries\n",
    "import csv\n",
    "from pathlib import Path"
   ]
  },
  {
   "cell_type": "code",
   "execution_count": 4,
   "id": "3f14a490-c71e-43f8-abdf-ba6a9bfc2faf",
   "metadata": {},
   "outputs": [],
   "source": [
    "#Set file path for budget_data.csv which is provided as input file for this analysis of PyBank\n",
    "csvpath = Path('C:/Users/benis/Documents/Beni/UoT/HW/Unit2/FinTech_BC_Unit2_HW/python-homework/PyBank/input_resources/budget_data.csv')\n",
    "\n",
    "#Initialize the paramter for Total number of months and Net total amount\n",
    "total_months = 0\n",
    "net_total = 0\n",
    "\n",
    "#Initialoze the profit/loss per month\n",
    "pnl = 0\n",
    "\n",
    "#Initialize the list of records\n",
    "records = []\n",
    "\n",
    "#Initiatlize the change for change in profit/loss per month\n",
    "change_pnl = 0\n",
    "\n",
    "#Initialize total change in profit/loss of all the months\n",
    "total_change_pnl = 0\n",
    "\n",
    "#Initialize the average\n",
    "average = 0\n",
    "\n",
    "#Initialize the maximum and minimum key and value for the profit/loss\n",
    "max_value = 0\n",
    "min_value = 0\n",
    "max_key = ''\n",
    "min_key = ''"
   ]
  },
  {
   "cell_type": "code",
   "execution_count": 5,
   "id": "6df84f63-d84a-4f2f-851d-479506c56320",
   "metadata": {},
   "outputs": [],
   "source": [
    "# Define a function called budgetAnalysis with an arugment for budget_data. This function will calulate and return net total profit/loss and total number of months\n",
    "def budgetAnalysis(budget_data):\n",
    "    \n",
    "    # Declare total months and net total as global variables to use in function and calling program\n",
    "    global total_months\n",
    "    global net_total\n",
    "    \n",
    "    # Calculate total number of months\n",
    "    total_months = total_months + 1\n",
    "    \n",
    "    # Calculate net total profit/loss\n",
    "    net_total = net_total + int(row[1])"
   ]
  },
  {
   "cell_type": "code",
   "execution_count": 6,
   "id": "1f3a0d4c-95fe-4fb8-801e-9d56b475a8a4",
   "metadata": {},
   "outputs": [],
   "source": [
    "# Define a function called budgetDiff with an arugment for budget_data. This function will calulate and return the change in profit/loss of each month.\n",
    "#This function also calculates and return the total change in profit/loss of all the records.\n",
    "def budgetDiff(budget_data):\n",
    "    \n",
    "    #Declare the profit/loss of each month, change and total change in profit/loss as global variables to be used in the function and calling program\n",
    "    global pnl\n",
    "    global change_pnl    \n",
    "    global total_change_pnl\n",
    "    \n",
    "    #Set profit/lost\n",
    "    pnl = int(row[1])      \n",
    "    \n",
    "    #Set change in profit/loss for the first month as 0 \n",
    "    # For the remaining months change in profit/loss is caluclated as difference between second month profit/loss compared to first month profit/loss\n",
    "    if total_months == 1:\n",
    "        change_pnl = 0\n",
    "    else:\n",
    "        change_pnl = pnl - change_pnl\n",
    "    \n",
    "    # Calculate the total change in profit/loss of all the months\n",
    "    total_change_pnl = total_change_pnl + change_pnl"
   ]
  },
  {
   "cell_type": "code",
   "execution_count": 7,
   "id": "27fb5215-44f8-4db9-9245-f1e69f6a584a",
   "metadata": {},
   "outputs": [],
   "source": [
    "# Open the csv file as an object\n",
    "with open(csvpath, 'r') as csvfile:\n",
    "    \n",
    "    # Pass in the csv file to the csv.reader() function\n",
    "    # (with ',' as the delmiter/separator) and return the csvreader object\n",
    "    csvreader = csv.reader(csvfile, delimiter=\",\")   \n",
    "\n",
    "    # Read the header row first (skip this step if there is no header)\n",
    "    csv_header = next(csvreader)    \n",
    "    \n",
    "    # Append the column 'Change' to the header    \n",
    "    csv_header.append(\"Change\")    \n",
    "    \n",
    "    # Append the header to the list of records\n",
    "    records.append(csv_header)    \n",
    "    \n",
    "    # Read each row of data after the header\n",
    "    for row in csvreader:\n",
    "        \n",
    "        # Call budgetAnalysis function for each record of the data to calculate the total number of months and net total profit/losses of the entire period\n",
    "        budgetAnalysis(row)\n",
    "        \n",
    "        # Call budgetDiff function for each record of the data to calculate change in profit/loss of each month \n",
    "        budgetDiff(row)        \n",
    "        \n",
    "        # Append the difference to the row\n",
    "        row.append(change_pnl)\n",
    "        \n",
    "        # Append the row to the list of records\n",
    "        records.append(row)\n",
    "        \n",
    "        # Reset the change in profit/loss as the profit/loss of the month to be used in calculation of change in profit/loss for next record\n",
    "        change_pnl = pnl\n",
    "        \n",
    "        # Calculate the greatest increase and decrease if profit/loss (date and amount) of the entire period\n",
    "        if min_value == 0:\n",
    "            min_value = int(row[2])\n",
    "            min_key = str(row[0])\n",
    "        elif int(row[2]) < min_value:\n",
    "            min_value = int(row[2])\n",
    "            min_key = str(row[0])\n",
    "        if int(row[2]) > max_value:\n",
    "            max_value = int(row[2])\n",
    "            max_key = str(row[0])\n",
    "\n",
    "# Calculate the average change in profit/loss of the entire period\n",
    "average = round((total_change_pnl/(total_months-1)),2)"
   ]
  },
  {
   "cell_type": "code",
   "execution_count": 8,
   "id": "ff7de7ee-398f-41d2-86cf-3d8368fbd306",
   "metadata": {},
   "outputs": [
    {
     "name": "stdout",
     "output_type": "stream",
     "text": [
      "Financial Analysis\n",
      "------------------\n",
      "Total Months: 86\n",
      "Net Total: $38382578\n",
      "Average Change: $-2315.12\n",
      "Greatest Increase in Profits: Feb-2012 ($1926159)\n",
      "Greatest Decrease in Profits: Sep-2013 ($-2196167)\n"
     ]
    }
   ],
   "source": [
    "# Printing the output of the analysis in terminal\n",
    "print(f'Financial Analysis')\n",
    "print(f'------------------')\n",
    "print(f'Total Months: {total_months}')\n",
    "print(f'Net Total: ${net_total}')\n",
    "print(f'Average Change: ${average}')\n",
    "print(f'Greatest Increase in Profits: {max_key} (${max_value})')\n",
    "print(f'Greatest Decrease in Profits: {min_key} (${min_value})')"
   ]
  },
  {
   "cell_type": "code",
   "execution_count": 9,
   "id": "280b3386-a6da-4043-b422-64378a5a3a38",
   "metadata": {},
   "outputs": [],
   "source": [
    "# Set the path for the analysis_output.txt\n",
    "output_path = Path('analysis_output.txt')\n",
    "\n",
    "# Open the output path as a file object\n",
    "with open(output_path, 'w') as file:\n",
    "    # Write total months, net total profit/loss, average change in profit/loss, greatest increase and decrease in profit/loss for the entire period into the output file\n",
    "    file.write(f'Financial Analysis\\n')\n",
    "    file.write(f'------------------\\n')\n",
    "    file.write(f'Total Months: {total_months}\\n')\n",
    "    file.write(f'Net Total: ${net_total}\\n')\n",
    "    file.write(f'Average Change: ${average}\\n')\n",
    "    file.write(f'Greatest Increase in Profits: {max_key} (${max_value})\\n')\n",
    "    file.write(f'Greatest Decrease in Profits: {min_key} (${min_value})\\n')"
   ]
  },
  {
   "cell_type": "code",
   "execution_count": null,
   "id": "1367e1b9-fc2c-45df-9e15-ab140f2c6725",
   "metadata": {},
   "outputs": [],
   "source": []
  }
 ],
 "metadata": {
  "kernelspec": {
   "display_name": "Python 3 (ipykernel)",
   "language": "python",
   "name": "python3"
  },
  "language_info": {
   "codemirror_mode": {
    "name": "ipython",
    "version": 3
   },
   "file_extension": ".py",
   "mimetype": "text/x-python",
   "name": "python",
   "nbconvert_exporter": "python",
   "pygments_lexer": "ipython3",
   "version": "3.7.13"
  }
 },
 "nbformat": 4,
 "nbformat_minor": 5
}
