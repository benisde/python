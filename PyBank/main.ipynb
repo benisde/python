{
 "cells": [
  {
   "cell_type": "code",
   "execution_count": 1,
   "id": "fc273740-e8da-46a8-80cb-94a28fa98536",
   "metadata": {},
   "outputs": [],
   "source": [
    "from pathlib import Path"
   ]
  },
  {
   "cell_type": "code",
   "execution_count": 357,
   "id": "256a250e-5a52-4c55-ab40-1467db77fa04",
   "metadata": {},
   "outputs": [],
   "source": [
    "import csv"
   ]
  },
  {
   "cell_type": "code",
   "execution_count": 401,
   "id": "3f14a490-c71e-43f8-abdf-ba6a9bfc2faf",
   "metadata": {},
   "outputs": [],
   "source": [
    "total_months = 0\n",
    "net_total = 0\n",
    "records = []\n",
    "total_difference = 0\n",
    "average = 0\n",
    "amount = 0\n",
    "csvpath = Path('C:/Users/benis/Documents/Beni/UoT/HW/Unit2/FinTech_BC_Unit2_HW/starter_file/budget_data.csv')"
   ]
  },
  {
   "cell_type": "code",
   "execution_count": 402,
   "id": "6df84f63-d84a-4f2f-851d-479506c56320",
   "metadata": {},
   "outputs": [],
   "source": [
    "def accountTot(accountData):\n",
    "    global total_months\n",
    "    global net_total\n",
    "    total_months = total_months + 1\n",
    "    net_total = net_total + int(row[1])"
   ]
  },
  {
   "cell_type": "code",
   "execution_count": 403,
   "id": "1f3a0d4c-95fe-4fb8-801e-9d56b475a8a4",
   "metadata": {},
   "outputs": [],
   "source": [
    "def accountDiff(accountData):\n",
    "    global difference\n",
    "    global amount\n",
    "    amount = int(row[1])      \n",
    "    if total_months == 1:\n",
    "        difference = 0\n",
    "    else:\n",
    "        difference = amount - difference"
   ]
  },
  {
   "cell_type": "code",
   "execution_count": 404,
   "id": "abe2a963-e50d-4e7c-a488-d91caddce566",
   "metadata": {},
   "outputs": [],
   "source": [
    "with open(csvpath, 'r') as csvfile:\n",
    "    csvreader = csv.reader(csvfile, delimiter=\",\")   \n",
    "    csv_header = next(csvreader)    \n",
    "    csv_header.append(\"Difference\")    \n",
    "    records.append(csv_header)    \n",
    "    difference = 0    \n",
    "    for row in csvreader:\n",
    "        \n",
    "        accountAnalysis(row)\n",
    "        \n",
    "        accountDiff(row)        \n",
    "        \n",
    "        row.append(difference)\n",
    "        records.append(row)\n",
    "        \n",
    "        total_difference = total_difference + difference\n",
    "        difference = amount\n",
    "\n",
    "average = round((total_difference/(total_months-1)),2)"
   ]
  },
  {
   "cell_type": "code",
   "execution_count": 405,
   "id": "ff7de7ee-398f-41d2-86cf-3d8368fbd306",
   "metadata": {},
   "outputs": [
    {
     "name": "stdout",
     "output_type": "stream",
     "text": [
      "Financial Analysis\n",
      "------------------\n",
      "Total Months: 86\n",
      "Net Total: $38382578\n",
      "Average Change: $-2315.12\n"
     ]
    }
   ],
   "source": [
    "print(f'Financial Analysis')\n",
    "print(f'------------------')\n",
    "print(f'Total Months: {total_months}')\n",
    "print(f'Net Total: ${net_total}')\n",
    "print(f'Average Change: ${average}')"
   ]
  },
  {
   "cell_type": "code",
   "execution_count": 361,
   "id": "280b3386-a6da-4043-b422-64378a5a3a38",
   "metadata": {},
   "outputs": [],
   "source": [
    "output_path = 'analysis_output.txt'\n",
    "with open(output_path, 'w') as file:\n",
    "    file.write(f'Financial Analysis\\n')\n",
    "    file.write(f'------------------\\n')\n",
    "    file.write(f'Total Months: {total_months}\\n')\n",
    "    file.write(f'Net Total: ${net_total}\\n')\n",
    "    file.write(f'Average Change: ${average}\\n')"
   ]
  },
  {
   "cell_type": "code",
   "execution_count": null,
   "id": "017774a6-eecc-459e-9774-7bd1d91cb6f3",
   "metadata": {},
   "outputs": [],
   "source": []
  }
 ],
 "metadata": {
  "kernelspec": {
   "display_name": "Python 3 (ipykernel)",
   "language": "python",
   "name": "python3"
  },
  "language_info": {
   "codemirror_mode": {
    "name": "ipython",
    "version": 3
   },
   "file_extension": ".py",
   "mimetype": "text/x-python",
   "name": "python",
   "nbconvert_exporter": "python",
   "pygments_lexer": "ipython3",
   "version": "3.7.13"
  }
 },
 "nbformat": 4,
 "nbformat_minor": 5
}
