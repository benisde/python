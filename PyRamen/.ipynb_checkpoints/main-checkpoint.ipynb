{
 "cells": [
  {
   "cell_type": "code",
   "execution_count": 2,
   "id": "0213ea7d-ac01-4950-8d30-908ab5af0ab3",
   "metadata": {},
   "outputs": [],
   "source": [
    "import csv\n",
    "from pathlib import Path"
   ]
  },
  {
   "cell_type": "code",
   "execution_count": 3,
   "id": "44b6a149-5b09-4922-9baa-5115b88e5376",
   "metadata": {},
   "outputs": [],
   "source": [
    "menu_filepath = Path('C:/Users/benis/Documents/Beni/UoT/HW/Unit2/FinTech_BC_Unit2_HW/python-homework/PyRamen/input_resources/menu_data.csv')\n",
    "sale_filepath = Path('\"C:/Users/benis/Documents/Beni/UoT/HW/Unit2/FinTech_BC_Unit2_HW/python-homework/PyRamen/input_resources/sales_data.csv')"
   ]
  },
  {
   "cell_type": "code",
   "execution_count": null,
   "id": "3f566f55-46cc-4bc8-baa1-df1a7795bd02",
   "metadata": {},
   "outputs": [],
   "source": []
  }
 ],
 "metadata": {
  "kernelspec": {
   "display_name": "Python 3 (ipykernel)",
   "language": "python",
   "name": "python3"
  },
  "language_info": {
   "codemirror_mode": {
    "name": "ipython",
    "version": 3
   },
   "file_extension": ".py",
   "mimetype": "text/x-python",
   "name": "python",
   "nbconvert_exporter": "python",
   "pygments_lexer": "ipython3",
   "version": "3.7.13"
  }
 },
 "nbformat": 4,
 "nbformat_minor": 5
}
