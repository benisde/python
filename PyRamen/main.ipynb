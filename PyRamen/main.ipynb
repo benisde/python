{
 "cells": [
  {
   "cell_type": "code",
   "execution_count": 37,
   "id": "0213ea7d-ac01-4950-8d30-908ab5af0ab3",
   "metadata": {},
   "outputs": [],
   "source": [
    "#Import libraries\n",
    "import csv\n",
    "from pathlib import Path"
   ]
  },
  {
   "cell_type": "code",
   "execution_count": 42,
   "id": "44b6a149-5b09-4922-9baa-5115b88e5376",
   "metadata": {},
   "outputs": [],
   "source": [
    "# Set file paths for menu_data.csv and sales_data.csv\n",
    "menu_filepath = Path('C:/Users/benis/Documents/Beni/UoT/HW/Unit2/FinTech_BC_Unit2_HW/python-homework/PyRamen/input_resources/menu_data.csv')\n",
    "sales_filepath = Path('C:/Users/benis/Documents/Beni/UoT/HW/Unit2/FinTech_BC_Unit2_HW/python-homework/PyRamen/input_resources/sales_data.csv')"
   ]
  },
  {
   "cell_type": "code",
   "execution_count": 43,
   "id": "3f566f55-46cc-4bc8-baa1-df1a7795bd02",
   "metadata": {},
   "outputs": [],
   "source": [
    "#Initialize list objects to hold our menu and sales data\n",
    "menu = []\n",
    "sales = []"
   ]
  },
  {
   "cell_type": "code",
   "execution_count": 48,
   "id": "fa740d4b-a29f-47ae-926d-b748fb220440",
   "metadata": {},
   "outputs": [],
   "source": [
    "#Read in the menu data into the menu list object\n",
    "\n",
    "# Open the output path as a file and pass into the 'csv.writer()' function\n",
    "# Set the delimiter/separater as a ','\n",
    "with open(menu_filepath, \"r\") as menu_csvfile:\n",
    "    menu_csvreader = csv.reader(menu_csvfile, delimiter=\",\")\n",
    "    \n",
    "    # Read the header row first\n",
    "    menu_csv_header = next(menu_csvreader)\n",
    "    \n",
    "    # Read each row of data after the header\n",
    "    for row in menu_csvreader:        \n",
    "        \n",
    "        #Append the row to the menu list\n",
    "        menu.append(row)"
   ]
  },
  {
   "cell_type": "code",
   "execution_count": 49,
   "id": "da7b5438-aa10-4f7d-b7e0-485e3fe8b12d",
   "metadata": {},
   "outputs": [],
   "source": [
    "#Read in the sales data into the sales list object\n",
    "\n",
    "# Open the output path as a file and pass into the 'csv.writer()' function\n",
    "# Set the delimiter/separater as a ','\n",
    "with open(sales_filepath, \"r\") as sales_csvfile:\n",
    "    sales_csvreader = csv.reader(sales_csvfile, delimiter=\",\")\n",
    "    \n",
    "    # Read the header row first\n",
    "    sales_csv_header = next(sales_csvreader)\n",
    "    \n",
    "    # Read each row of data after the header\n",
    "    for row in sales_csvreader:        \n",
    "        \n",
    "        #Append the row to the menu list\n",
    "        sales.append(row)"
   ]
  },
  {
   "cell_type": "code",
   "execution_count": 132,
   "id": "0e76c475-70d7-4675-87b0-71118969b492",
   "metadata": {},
   "outputs": [],
   "source": [
    "#Initialize dictionary object to hold our key-value pairs of items and metrics\n",
    "report = {}\n",
    "\n",
    "#Initialize a row counter variable\n",
    "row_count = 0"
   ]
  },
  {
   "cell_type": "code",
   "execution_count": 140,
   "id": "26128a73-22a9-441a-978b-224ff1bb1d38",
   "metadata": {},
   "outputs": [
    {
     "name": "stdout",
     "output_type": "stream",
     "text": [
      "spicy miso ramen does not equal edamame! NO MATCH!\n",
      "spicy miso ramen does not equal house salad! NO MATCH!\n",
      "spicy miso ramen does not equal cucumber sunomono salad! NO MATCH!\n",
      "spicy miso ramen does not equal hiyashi wakame seaweed salad! NO MATCH!\n",
      "spicy miso ramen does not equal agedashi tofu! NO MATCH!\n",
      "spicy miso ramen does not equal hiyayakko tofu! NO MATCH!\n",
      "spicy miso ramen does not equal pork floss bao! NO MATCH!\n",
      "spicy miso ramen does not equal kakuni bao! NO MATCH!\n",
      "spicy miso ramen does not equal edamame fried gyoza (vegan)! NO MATCH!\n",
      "spicy miso ramen does not equal fried gyoza! NO MATCH!\n",
      "spicy miso ramen does not equal takoyaki! NO MATCH!\n",
      "spicy miso ramen does not equal rock shrimp tempura! NO MATCH!\n",
      "spicy miso ramen does not equal soft-shell crab tempura! NO MATCH!\n",
      "spicy miso ramen does not equal ebi katsu shrimp bao! NO MATCH!\n",
      "spicy miso ramen does not equal nagomi shoyu! NO MATCH!\n",
      "spicy miso ramen does not equal shio ramen! NO MATCH!\n"
     ]
    },
    {
     "ename": "TypeError",
     "evalue": "string indices must be integers",
     "output_type": "error",
     "traceback": [
      "\u001b[1;31m---------------------------------------------------------------------------\u001b[0m",
      "\u001b[1;31mTypeError\u001b[0m                                 Traceback (most recent call last)",
      "\u001b[1;32m~\\AppData\\Local\\Temp\\ipykernel_32364\\3260686009.py\u001b[0m in \u001b[0;36m<module>\u001b[1;34m\u001b[0m\n\u001b[0;32m     26\u001b[0m \u001b[1;33m\u001b[0m\u001b[0m\n\u001b[0;32m     27\u001b[0m         \u001b[1;32mif\u001b[0m \u001b[0mmenu_item\u001b[0m \u001b[1;33m==\u001b[0m \u001b[0mitem\u001b[0m\u001b[1;33m:\u001b[0m\u001b[1;33m\u001b[0m\u001b[1;33m\u001b[0m\u001b[0m\n\u001b[1;32m---> 28\u001b[1;33m             \u001b[0mreport\u001b[0m\u001b[1;33m[\u001b[0m\u001b[0msales_item\u001b[0m\u001b[1;33m]\u001b[0m\u001b[1;33m[\u001b[0m\u001b[1;34m\"01-count\"\u001b[0m\u001b[1;33m]\u001b[0m \u001b[1;33m+=\u001b[0m \u001b[0mquantity\u001b[0m\u001b[1;33m\u001b[0m\u001b[1;33m\u001b[0m\u001b[0m\n\u001b[0m\u001b[0;32m     29\u001b[0m             \u001b[0mreport\u001b[0m\u001b[1;33m[\u001b[0m\u001b[0msales_item\u001b[0m\u001b[1;33m]\u001b[0m\u001b[1;33m[\u001b[0m\u001b[1;34m\"02-revenue\"\u001b[0m\u001b[1;33m]\u001b[0m \u001b[1;33m+=\u001b[0m \u001b[0mprice\u001b[0m \u001b[1;33m*\u001b[0m \u001b[0mquantity\u001b[0m\u001b[1;33m\u001b[0m\u001b[1;33m\u001b[0m\u001b[0m\n\u001b[0;32m     30\u001b[0m             \u001b[0mreport\u001b[0m\u001b[1;33m[\u001b[0m\u001b[0msales_item\u001b[0m\u001b[1;33m]\u001b[0m\u001b[1;33m[\u001b[0m\u001b[1;34m'03-cogs'\u001b[0m\u001b[1;33m]\u001b[0m \u001b[1;33m+=\u001b[0m \u001b[0mcost\u001b[0m \u001b[1;33m*\u001b[0m \u001b[0mquantity\u001b[0m\u001b[1;33m\u001b[0m\u001b[1;33m\u001b[0m\u001b[0m\n",
      "\u001b[1;31mTypeError\u001b[0m: string indices must be integers"
     ]
    }
   ],
   "source": [
    "for row_sales in sales:    \n",
    "    line_iten_id = row_sales[0]\n",
    "    date = row_sales[1]\n",
    "    credit_card = row_sales [2]\n",
    "    quantity = int(row_sales[3])\n",
    "    menu_item = str(row_sales [4])\n",
    "    \n",
    "    if sales_item not in report.keys():        \n",
    "        report[sales_item] = ''    \n",
    "        report.update[sales_item]\n",
    "        {\n",
    "        \"01-count\": 0,\n",
    "        \"02-revenue\": 0,\n",
    "        \"03-cogs\": 0,\n",
    "        \"04-profit\": 0\n",
    "        }\n",
    "        \n",
    "    for row_menu in menu:\n",
    "        item = str(row_menu[0])\n",
    "        category = row_menu[1]\n",
    "        description = row_menu[2]\n",
    "        price = int(row_menu[3])\n",
    "        cost = int(row_menu[4])\n",
    "        \n",
    "        profit = quantity*(price - cost)\n",
    "        \n",
    "        if menu_item == item:\n",
    "            report[sales_item][\"01-count\"] += quantity\n",
    "            report[sales_item][\"02-revenue\"] += price * quantity\n",
    "            report[sales_item]['03-cogs'] += cost * quantity\n",
    "            report[sales_item]['04-profit'] += profit * quantity\n",
    "        else:\n",
    "            print(f\"{menu_item} does not equal {item}! NO MATCH!\")\n",
    "    row_count = row_count +1    \n",
    "        "
   ]
  },
  {
   "cell_type": "code",
   "execution_count": null,
   "id": "e55f7712-e2e0-4e90-a62a-caa160dd4f66",
   "metadata": {},
   "outputs": [],
   "source": []
  }
 ],
 "metadata": {
  "kernelspec": {
   "display_name": "Python 3 (ipykernel)",
   "language": "python",
   "name": "python3"
  },
  "language_info": {
   "codemirror_mode": {
    "name": "ipython",
    "version": 3
   },
   "file_extension": ".py",
   "mimetype": "text/x-python",
   "name": "python",
   "nbconvert_exporter": "python",
   "pygments_lexer": "ipython3",
   "version": "3.7.13"
  }
 },
 "nbformat": 4,
 "nbformat_minor": 5
}
